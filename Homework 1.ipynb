{
  "nbformat": 4,
  "nbformat_minor": 0,
  "metadata": {
    "colab": {
      "provenance": [],
      "collapsed_sections": []
    },
    "kernelspec": {
      "name": "python3",
      "display_name": "Python 3"
    },
    "language_info": {
      "name": "python"
    }
  },
  "cells": [
    {
      "cell_type": "markdown",
      "source": [
        "**Problem 2**"
      ],
      "metadata": {
        "id": "dd3-COr7QhtK"
      }
    },
    {
      "cell_type": "markdown",
      "source": [
        "(c) Verifying the calculations in (a-i) and (b-i)"
      ],
      "metadata": {
        "id": "WcX6SNkfQ6Wj"
      }
    },
    {
      "cell_type": "code",
      "source": [
        "from numpy.linalg import svd\n",
        "from numpy.linalg import eig\n",
        "from numpy import matrix"
      ],
      "metadata": {
        "id": "P9XF3FL6REpK"
      },
      "execution_count": 86,
      "outputs": []
    },
    {
      "cell_type": "code",
      "source": [
        "A = matrix([[1, 1], \n",
        "     [1, 1], \n",
        "     [1, -1]])"
      ],
      "metadata": {
        "id": "83xpTsiRRa_Y"
      },
      "execution_count": 87,
      "outputs": []
    },
    {
      "cell_type": "code",
      "source": [
        "U, sigma, Vt = svd(A)"
      ],
      "metadata": {
        "id": "AcVkajpGRpRt"
      },
      "execution_count": 89,
      "outputs": []
    },
    {
      "cell_type": "code",
      "source": [
        "print(U)"
      ],
      "metadata": {
        "colab": {
          "base_uri": "https://localhost:8080/"
        },
        "id": "J2blOYIgRtxZ",
        "outputId": "b3f9aadc-dfab-400c-a30e-5c9d0dd82e5d"
      },
      "execution_count": 90,
      "outputs": [
        {
          "output_type": "stream",
          "name": "stdout",
          "text": [
            "[[-7.07106781e-01 -8.56119755e-17 -7.07106781e-01]\n",
            " [-7.07106781e-01 -3.12235301e-16  7.07106781e-01]\n",
            " [-1.12180787e-16  1.00000000e+00  5.55111512e-17]]\n"
          ]
        }
      ]
    },
    {
      "cell_type": "code",
      "source": [
        "print(sigma)"
      ],
      "metadata": {
        "colab": {
          "base_uri": "https://localhost:8080/"
        },
        "id": "ZUiKmi4uRyoD",
        "outputId": "426af792-c2ef-4ef6-a34d-eecd1c9ea263"
      },
      "execution_count": 91,
      "outputs": [
        {
          "output_type": "stream",
          "name": "stdout",
          "text": [
            "[2.         1.41421356]\n"
          ]
        }
      ]
    },
    {
      "cell_type": "code",
      "source": [
        "print(Vt)"
      ],
      "metadata": {
        "colab": {
          "base_uri": "https://localhost:8080/"
        },
        "id": "Z1NCewrMR16j",
        "outputId": "019b92b7-3216-4652-a667-76f6140c500d"
      },
      "execution_count": 92,
      "outputs": [
        {
          "output_type": "stream",
          "name": "stdout",
          "text": [
            "[[-0.70710678 -0.70710678]\n",
            " [ 0.70710678 -0.70710678]]\n"
          ]
        }
      ]
    },
    {
      "cell_type": "code",
      "source": [
        "eig(A @ A.T)"
      ],
      "metadata": {
        "colab": {
          "base_uri": "https://localhost:8080/"
        },
        "id": "pPuz2aYoR6Ok",
        "outputId": "17f6fb3e-597f-4c26-e8a4-265f99c1f4f4"
      },
      "execution_count": 93,
      "outputs": [
        {
          "output_type": "execute_result",
          "data": {
            "text/plain": [
              "(array([4.0000000e+00, 4.4408921e-16, 2.0000000e+00]),\n",
              " matrix([[ 0.70710678, -0.70710678,  0.        ],\n",
              "         [ 0.70710678,  0.70710678,  0.        ],\n",
              "         [ 0.        ,  0.        ,  1.        ]]))"
            ]
          },
          "metadata": {},
          "execution_count": 93
        }
      ]
    },
    {
      "cell_type": "code",
      "source": [
        "A.T"
      ],
      "metadata": {
        "colab": {
          "base_uri": "https://localhost:8080/"
        },
        "id": "JmeG19ZjSJck",
        "outputId": "8daf4b24-9423-4da4-8449-b0ee2bdfa3eb"
      },
      "execution_count": 94,
      "outputs": [
        {
          "output_type": "execute_result",
          "data": {
            "text/plain": [
              "matrix([[ 1,  1,  1],\n",
              "        [ 1,  1, -1]])"
            ]
          },
          "metadata": {},
          "execution_count": 94
        }
      ]
    },
    {
      "cell_type": "code",
      "source": [
        "eig(A.T @ A)"
      ],
      "metadata": {
        "colab": {
          "base_uri": "https://localhost:8080/"
        },
        "id": "wifK4TGOSLGN",
        "outputId": "032f6f1f-5fad-4dc5-ddeb-ed55fefc0271"
      },
      "execution_count": 95,
      "outputs": [
        {
          "output_type": "execute_result",
          "data": {
            "text/plain": [
              "(array([4., 2.]), matrix([[ 0.70710678, -0.70710678],\n",
              "         [ 0.70710678,  0.70710678]]))"
            ]
          },
          "metadata": {},
          "execution_count": 95
        }
      ]
    },
    {
      "cell_type": "markdown",
      "source": [
        "**Problem 4**"
      ],
      "metadata": {
        "id": "U6NA3oTBVaAW"
      }
    },
    {
      "cell_type": "code",
      "source": [
        "# importing the Library\n",
        "import pandas as pd\n",
        "import numpy as np\n",
        "import matplotlib.pyplot as plt\n",
        "import seaborn as sns\n",
        "import math\n",
        "\n",
        "# importing the library for models\n",
        "from sklearn.model_selection import train_test_split\n",
        "from sklearn.preprocessing import MinMaxScaler\n",
        "from sklearn.linear_model import LinearRegression\n",
        "from sklearn.preprocessing import PolynomialFeatures\n",
        "from sklearn.model_selection import LeaveOneOut\n",
        "from sklearn.model_selection import cross_val_score"
      ],
      "metadata": {
        "id": "YmVaMloCP-13"
      },
      "execution_count": 57,
      "outputs": []
    },
    {
      "cell_type": "code",
      "source": [
        "# supress warnings\n",
        "import warnings\n",
        "warnings.filterwarnings(\"ignore\")"
      ],
      "metadata": {
        "id": "yqiCUNNDmTjU"
      },
      "execution_count": 58,
      "outputs": []
    },
    {
      "cell_type": "code",
      "source": [
        "# Importing the DataSet\n",
        "data = pd.read_csv(\"day.csv\")"
      ],
      "metadata": {
        "id": "Kz6Tf_XQQUwU"
      },
      "execution_count": 59,
      "outputs": []
    },
    {
      "cell_type": "markdown",
      "source": [
        "Step 1 : Data Understanding"
      ],
      "metadata": {
        "id": "sdiVHbABQvZs"
      }
    },
    {
      "cell_type": "code",
      "source": [
        "# Reading the head of the dataset and analysizing the attribute\n",
        "data.head()"
      ],
      "metadata": {
        "colab": {
          "base_uri": "https://localhost:8080/",
          "height": 206
        },
        "id": "rmJRvKySQ34y",
        "outputId": "2227f460-6854-4d5f-f702-0fbad325629c"
      },
      "execution_count": 60,
      "outputs": [
        {
          "output_type": "execute_result",
          "data": {
            "text/plain": [
              "   instant      dteday  season  yr  mnth  holiday  weekday  workingday  \\\n",
              "0        1  2011-01-01       1   0     1        0        6           0   \n",
              "1        2  2011-01-02       1   0     1        0        0           0   \n",
              "2        3  2011-01-03       1   0     1        0        1           1   \n",
              "3        4  2011-01-04       1   0     1        0        2           1   \n",
              "4        5  2011-01-05       1   0     1        0        3           1   \n",
              "\n",
              "   weathersit      temp     atemp       hum  windspeed  casual  registered  \\\n",
              "0           2  0.344167  0.363625  0.805833   0.160446     331         654   \n",
              "1           2  0.363478  0.353739  0.696087   0.248539     131         670   \n",
              "2           1  0.196364  0.189405  0.437273   0.248309     120        1229   \n",
              "3           1  0.200000  0.212122  0.590435   0.160296     108        1454   \n",
              "4           1  0.226957  0.229270  0.436957   0.186900      82        1518   \n",
              "\n",
              "    cnt  \n",
              "0   985  \n",
              "1   801  \n",
              "2  1349  \n",
              "3  1562  \n",
              "4  1600  "
            ],
            "text/html": [
              "\n",
              "  <div id=\"df-39063370-0c79-497d-a27f-a9577547b7af\">\n",
              "    <div class=\"colab-df-container\">\n",
              "      <div>\n",
              "<style scoped>\n",
              "    .dataframe tbody tr th:only-of-type {\n",
              "        vertical-align: middle;\n",
              "    }\n",
              "\n",
              "    .dataframe tbody tr th {\n",
              "        vertical-align: top;\n",
              "    }\n",
              "\n",
              "    .dataframe thead th {\n",
              "        text-align: right;\n",
              "    }\n",
              "</style>\n",
              "<table border=\"1\" class=\"dataframe\">\n",
              "  <thead>\n",
              "    <tr style=\"text-align: right;\">\n",
              "      <th></th>\n",
              "      <th>instant</th>\n",
              "      <th>dteday</th>\n",
              "      <th>season</th>\n",
              "      <th>yr</th>\n",
              "      <th>mnth</th>\n",
              "      <th>holiday</th>\n",
              "      <th>weekday</th>\n",
              "      <th>workingday</th>\n",
              "      <th>weathersit</th>\n",
              "      <th>temp</th>\n",
              "      <th>atemp</th>\n",
              "      <th>hum</th>\n",
              "      <th>windspeed</th>\n",
              "      <th>casual</th>\n",
              "      <th>registered</th>\n",
              "      <th>cnt</th>\n",
              "    </tr>\n",
              "  </thead>\n",
              "  <tbody>\n",
              "    <tr>\n",
              "      <th>0</th>\n",
              "      <td>1</td>\n",
              "      <td>2011-01-01</td>\n",
              "      <td>1</td>\n",
              "      <td>0</td>\n",
              "      <td>1</td>\n",
              "      <td>0</td>\n",
              "      <td>6</td>\n",
              "      <td>0</td>\n",
              "      <td>2</td>\n",
              "      <td>0.344167</td>\n",
              "      <td>0.363625</td>\n",
              "      <td>0.805833</td>\n",
              "      <td>0.160446</td>\n",
              "      <td>331</td>\n",
              "      <td>654</td>\n",
              "      <td>985</td>\n",
              "    </tr>\n",
              "    <tr>\n",
              "      <th>1</th>\n",
              "      <td>2</td>\n",
              "      <td>2011-01-02</td>\n",
              "      <td>1</td>\n",
              "      <td>0</td>\n",
              "      <td>1</td>\n",
              "      <td>0</td>\n",
              "      <td>0</td>\n",
              "      <td>0</td>\n",
              "      <td>2</td>\n",
              "      <td>0.363478</td>\n",
              "      <td>0.353739</td>\n",
              "      <td>0.696087</td>\n",
              "      <td>0.248539</td>\n",
              "      <td>131</td>\n",
              "      <td>670</td>\n",
              "      <td>801</td>\n",
              "    </tr>\n",
              "    <tr>\n",
              "      <th>2</th>\n",
              "      <td>3</td>\n",
              "      <td>2011-01-03</td>\n",
              "      <td>1</td>\n",
              "      <td>0</td>\n",
              "      <td>1</td>\n",
              "      <td>0</td>\n",
              "      <td>1</td>\n",
              "      <td>1</td>\n",
              "      <td>1</td>\n",
              "      <td>0.196364</td>\n",
              "      <td>0.189405</td>\n",
              "      <td>0.437273</td>\n",
              "      <td>0.248309</td>\n",
              "      <td>120</td>\n",
              "      <td>1229</td>\n",
              "      <td>1349</td>\n",
              "    </tr>\n",
              "    <tr>\n",
              "      <th>3</th>\n",
              "      <td>4</td>\n",
              "      <td>2011-01-04</td>\n",
              "      <td>1</td>\n",
              "      <td>0</td>\n",
              "      <td>1</td>\n",
              "      <td>0</td>\n",
              "      <td>2</td>\n",
              "      <td>1</td>\n",
              "      <td>1</td>\n",
              "      <td>0.200000</td>\n",
              "      <td>0.212122</td>\n",
              "      <td>0.590435</td>\n",
              "      <td>0.160296</td>\n",
              "      <td>108</td>\n",
              "      <td>1454</td>\n",
              "      <td>1562</td>\n",
              "    </tr>\n",
              "    <tr>\n",
              "      <th>4</th>\n",
              "      <td>5</td>\n",
              "      <td>2011-01-05</td>\n",
              "      <td>1</td>\n",
              "      <td>0</td>\n",
              "      <td>1</td>\n",
              "      <td>0</td>\n",
              "      <td>3</td>\n",
              "      <td>1</td>\n",
              "      <td>1</td>\n",
              "      <td>0.226957</td>\n",
              "      <td>0.229270</td>\n",
              "      <td>0.436957</td>\n",
              "      <td>0.186900</td>\n",
              "      <td>82</td>\n",
              "      <td>1518</td>\n",
              "      <td>1600</td>\n",
              "    </tr>\n",
              "  </tbody>\n",
              "</table>\n",
              "</div>\n",
              "      <button class=\"colab-df-convert\" onclick=\"convertToInteractive('df-39063370-0c79-497d-a27f-a9577547b7af')\"\n",
              "              title=\"Convert this dataframe to an interactive table.\"\n",
              "              style=\"display:none;\">\n",
              "        \n",
              "  <svg xmlns=\"http://www.w3.org/2000/svg\" height=\"24px\"viewBox=\"0 0 24 24\"\n",
              "       width=\"24px\">\n",
              "    <path d=\"M0 0h24v24H0V0z\" fill=\"none\"/>\n",
              "    <path d=\"M18.56 5.44l.94 2.06.94-2.06 2.06-.94-2.06-.94-.94-2.06-.94 2.06-2.06.94zm-11 1L8.5 8.5l.94-2.06 2.06-.94-2.06-.94L8.5 2.5l-.94 2.06-2.06.94zm10 10l.94 2.06.94-2.06 2.06-.94-2.06-.94-.94-2.06-.94 2.06-2.06.94z\"/><path d=\"M17.41 7.96l-1.37-1.37c-.4-.4-.92-.59-1.43-.59-.52 0-1.04.2-1.43.59L10.3 9.45l-7.72 7.72c-.78.78-.78 2.05 0 2.83L4 21.41c.39.39.9.59 1.41.59.51 0 1.02-.2 1.41-.59l7.78-7.78 2.81-2.81c.8-.78.8-2.07 0-2.86zM5.41 20L4 18.59l7.72-7.72 1.47 1.35L5.41 20z\"/>\n",
              "  </svg>\n",
              "      </button>\n",
              "      \n",
              "  <style>\n",
              "    .colab-df-container {\n",
              "      display:flex;\n",
              "      flex-wrap:wrap;\n",
              "      gap: 12px;\n",
              "    }\n",
              "\n",
              "    .colab-df-convert {\n",
              "      background-color: #E8F0FE;\n",
              "      border: none;\n",
              "      border-radius: 50%;\n",
              "      cursor: pointer;\n",
              "      display: none;\n",
              "      fill: #1967D2;\n",
              "      height: 32px;\n",
              "      padding: 0 0 0 0;\n",
              "      width: 32px;\n",
              "    }\n",
              "\n",
              "    .colab-df-convert:hover {\n",
              "      background-color: #E2EBFA;\n",
              "      box-shadow: 0px 1px 2px rgba(60, 64, 67, 0.3), 0px 1px 3px 1px rgba(60, 64, 67, 0.15);\n",
              "      fill: #174EA6;\n",
              "    }\n",
              "\n",
              "    [theme=dark] .colab-df-convert {\n",
              "      background-color: #3B4455;\n",
              "      fill: #D2E3FC;\n",
              "    }\n",
              "\n",
              "    [theme=dark] .colab-df-convert:hover {\n",
              "      background-color: #434B5C;\n",
              "      box-shadow: 0px 1px 3px 1px rgba(0, 0, 0, 0.15);\n",
              "      filter: drop-shadow(0px 1px 2px rgba(0, 0, 0, 0.3));\n",
              "      fill: #FFFFFF;\n",
              "    }\n",
              "  </style>\n",
              "\n",
              "      <script>\n",
              "        const buttonEl =\n",
              "          document.querySelector('#df-39063370-0c79-497d-a27f-a9577547b7af button.colab-df-convert');\n",
              "        buttonEl.style.display =\n",
              "          google.colab.kernel.accessAllowed ? 'block' : 'none';\n",
              "\n",
              "        async function convertToInteractive(key) {\n",
              "          const element = document.querySelector('#df-39063370-0c79-497d-a27f-a9577547b7af');\n",
              "          const dataTable =\n",
              "            await google.colab.kernel.invokeFunction('convertToInteractive',\n",
              "                                                     [key], {});\n",
              "          if (!dataTable) return;\n",
              "\n",
              "          const docLinkHtml = 'Like what you see? Visit the ' +\n",
              "            '<a target=\"_blank\" href=https://colab.research.google.com/notebooks/data_table.ipynb>data table notebook</a>'\n",
              "            + ' to learn more about interactive tables.';\n",
              "          element.innerHTML = '';\n",
              "          dataTable['output_type'] = 'display_data';\n",
              "          await google.colab.output.renderOutput(dataTable, element);\n",
              "          const docLink = document.createElement('div');\n",
              "          docLink.innerHTML = docLinkHtml;\n",
              "          element.appendChild(docLink);\n",
              "        }\n",
              "      </script>\n",
              "    </div>\n",
              "  </div>\n",
              "  "
            ]
          },
          "metadata": {},
          "execution_count": 60
        }
      ]
    },
    {
      "cell_type": "code",
      "source": [
        "data.info()"
      ],
      "metadata": {
        "colab": {
          "base_uri": "https://localhost:8080/"
        },
        "id": "VuQY_yQXRFBW",
        "outputId": "c0f211b1-999f-4c5c-dcca-988c36c3834c"
      },
      "execution_count": 61,
      "outputs": [
        {
          "output_type": "stream",
          "name": "stdout",
          "text": [
            "<class 'pandas.core.frame.DataFrame'>\n",
            "RangeIndex: 731 entries, 0 to 730\n",
            "Data columns (total 16 columns):\n",
            " #   Column      Non-Null Count  Dtype  \n",
            "---  ------      --------------  -----  \n",
            " 0   instant     731 non-null    int64  \n",
            " 1   dteday      731 non-null    object \n",
            " 2   season      731 non-null    int64  \n",
            " 3   yr          731 non-null    int64  \n",
            " 4   mnth        731 non-null    int64  \n",
            " 5   holiday     731 non-null    int64  \n",
            " 6   weekday     731 non-null    int64  \n",
            " 7   workingday  731 non-null    int64  \n",
            " 8   weathersit  731 non-null    int64  \n",
            " 9   temp        731 non-null    float64\n",
            " 10  atemp       731 non-null    float64\n",
            " 11  hum         731 non-null    float64\n",
            " 12  windspeed   731 non-null    float64\n",
            " 13  casual      731 non-null    int64  \n",
            " 14  registered  731 non-null    int64  \n",
            " 15  cnt         731 non-null    int64  \n",
            "dtypes: float64(4), int64(11), object(1)\n",
            "memory usage: 91.5+ KB\n"
          ]
        }
      ]
    },
    {
      "cell_type": "code",
      "source": [
        "# Instant column look like an Index and dteday type column which is not useful in model building so simply we can drop it.\n",
        "data.drop(['instant','dteday'], axis=1 , inplace=True)"
      ],
      "metadata": {
        "id": "-bSzrdiIRiMm"
      },
      "execution_count": 62,
      "outputs": []
    },
    {
      "cell_type": "code",
      "source": [
        "data.head()"
      ],
      "metadata": {
        "colab": {
          "base_uri": "https://localhost:8080/",
          "height": 206
        },
        "id": "GP88CiPtR6Ck",
        "outputId": "6c51f6b4-cd5a-4696-986b-407b334d4123"
      },
      "execution_count": 63,
      "outputs": [
        {
          "output_type": "execute_result",
          "data": {
            "text/plain": [
              "   season  yr  mnth  holiday  weekday  workingday  weathersit      temp  \\\n",
              "0       1   0     1        0        6           0           2  0.344167   \n",
              "1       1   0     1        0        0           0           2  0.363478   \n",
              "2       1   0     1        0        1           1           1  0.196364   \n",
              "3       1   0     1        0        2           1           1  0.200000   \n",
              "4       1   0     1        0        3           1           1  0.226957   \n",
              "\n",
              "      atemp       hum  windspeed  casual  registered   cnt  \n",
              "0  0.363625  0.805833   0.160446     331         654   985  \n",
              "1  0.353739  0.696087   0.248539     131         670   801  \n",
              "2  0.189405  0.437273   0.248309     120        1229  1349  \n",
              "3  0.212122  0.590435   0.160296     108        1454  1562  \n",
              "4  0.229270  0.436957   0.186900      82        1518  1600  "
            ],
            "text/html": [
              "\n",
              "  <div id=\"df-c485ec7b-656b-4881-ad18-8e44fe731f31\">\n",
              "    <div class=\"colab-df-container\">\n",
              "      <div>\n",
              "<style scoped>\n",
              "    .dataframe tbody tr th:only-of-type {\n",
              "        vertical-align: middle;\n",
              "    }\n",
              "\n",
              "    .dataframe tbody tr th {\n",
              "        vertical-align: top;\n",
              "    }\n",
              "\n",
              "    .dataframe thead th {\n",
              "        text-align: right;\n",
              "    }\n",
              "</style>\n",
              "<table border=\"1\" class=\"dataframe\">\n",
              "  <thead>\n",
              "    <tr style=\"text-align: right;\">\n",
              "      <th></th>\n",
              "      <th>season</th>\n",
              "      <th>yr</th>\n",
              "      <th>mnth</th>\n",
              "      <th>holiday</th>\n",
              "      <th>weekday</th>\n",
              "      <th>workingday</th>\n",
              "      <th>weathersit</th>\n",
              "      <th>temp</th>\n",
              "      <th>atemp</th>\n",
              "      <th>hum</th>\n",
              "      <th>windspeed</th>\n",
              "      <th>casual</th>\n",
              "      <th>registered</th>\n",
              "      <th>cnt</th>\n",
              "    </tr>\n",
              "  </thead>\n",
              "  <tbody>\n",
              "    <tr>\n",
              "      <th>0</th>\n",
              "      <td>1</td>\n",
              "      <td>0</td>\n",
              "      <td>1</td>\n",
              "      <td>0</td>\n",
              "      <td>6</td>\n",
              "      <td>0</td>\n",
              "      <td>2</td>\n",
              "      <td>0.344167</td>\n",
              "      <td>0.363625</td>\n",
              "      <td>0.805833</td>\n",
              "      <td>0.160446</td>\n",
              "      <td>331</td>\n",
              "      <td>654</td>\n",
              "      <td>985</td>\n",
              "    </tr>\n",
              "    <tr>\n",
              "      <th>1</th>\n",
              "      <td>1</td>\n",
              "      <td>0</td>\n",
              "      <td>1</td>\n",
              "      <td>0</td>\n",
              "      <td>0</td>\n",
              "      <td>0</td>\n",
              "      <td>2</td>\n",
              "      <td>0.363478</td>\n",
              "      <td>0.353739</td>\n",
              "      <td>0.696087</td>\n",
              "      <td>0.248539</td>\n",
              "      <td>131</td>\n",
              "      <td>670</td>\n",
              "      <td>801</td>\n",
              "    </tr>\n",
              "    <tr>\n",
              "      <th>2</th>\n",
              "      <td>1</td>\n",
              "      <td>0</td>\n",
              "      <td>1</td>\n",
              "      <td>0</td>\n",
              "      <td>1</td>\n",
              "      <td>1</td>\n",
              "      <td>1</td>\n",
              "      <td>0.196364</td>\n",
              "      <td>0.189405</td>\n",
              "      <td>0.437273</td>\n",
              "      <td>0.248309</td>\n",
              "      <td>120</td>\n",
              "      <td>1229</td>\n",
              "      <td>1349</td>\n",
              "    </tr>\n",
              "    <tr>\n",
              "      <th>3</th>\n",
              "      <td>1</td>\n",
              "      <td>0</td>\n",
              "      <td>1</td>\n",
              "      <td>0</td>\n",
              "      <td>2</td>\n",
              "      <td>1</td>\n",
              "      <td>1</td>\n",
              "      <td>0.200000</td>\n",
              "      <td>0.212122</td>\n",
              "      <td>0.590435</td>\n",
              "      <td>0.160296</td>\n",
              "      <td>108</td>\n",
              "      <td>1454</td>\n",
              "      <td>1562</td>\n",
              "    </tr>\n",
              "    <tr>\n",
              "      <th>4</th>\n",
              "      <td>1</td>\n",
              "      <td>0</td>\n",
              "      <td>1</td>\n",
              "      <td>0</td>\n",
              "      <td>3</td>\n",
              "      <td>1</td>\n",
              "      <td>1</td>\n",
              "      <td>0.226957</td>\n",
              "      <td>0.229270</td>\n",
              "      <td>0.436957</td>\n",
              "      <td>0.186900</td>\n",
              "      <td>82</td>\n",
              "      <td>1518</td>\n",
              "      <td>1600</td>\n",
              "    </tr>\n",
              "  </tbody>\n",
              "</table>\n",
              "</div>\n",
              "      <button class=\"colab-df-convert\" onclick=\"convertToInteractive('df-c485ec7b-656b-4881-ad18-8e44fe731f31')\"\n",
              "              title=\"Convert this dataframe to an interactive table.\"\n",
              "              style=\"display:none;\">\n",
              "        \n",
              "  <svg xmlns=\"http://www.w3.org/2000/svg\" height=\"24px\"viewBox=\"0 0 24 24\"\n",
              "       width=\"24px\">\n",
              "    <path d=\"M0 0h24v24H0V0z\" fill=\"none\"/>\n",
              "    <path d=\"M18.56 5.44l.94 2.06.94-2.06 2.06-.94-2.06-.94-.94-2.06-.94 2.06-2.06.94zm-11 1L8.5 8.5l.94-2.06 2.06-.94-2.06-.94L8.5 2.5l-.94 2.06-2.06.94zm10 10l.94 2.06.94-2.06 2.06-.94-2.06-.94-.94-2.06-.94 2.06-2.06.94z\"/><path d=\"M17.41 7.96l-1.37-1.37c-.4-.4-.92-.59-1.43-.59-.52 0-1.04.2-1.43.59L10.3 9.45l-7.72 7.72c-.78.78-.78 2.05 0 2.83L4 21.41c.39.39.9.59 1.41.59.51 0 1.02-.2 1.41-.59l7.78-7.78 2.81-2.81c.8-.78.8-2.07 0-2.86zM5.41 20L4 18.59l7.72-7.72 1.47 1.35L5.41 20z\"/>\n",
              "  </svg>\n",
              "      </button>\n",
              "      \n",
              "  <style>\n",
              "    .colab-df-container {\n",
              "      display:flex;\n",
              "      flex-wrap:wrap;\n",
              "      gap: 12px;\n",
              "    }\n",
              "\n",
              "    .colab-df-convert {\n",
              "      background-color: #E8F0FE;\n",
              "      border: none;\n",
              "      border-radius: 50%;\n",
              "      cursor: pointer;\n",
              "      display: none;\n",
              "      fill: #1967D2;\n",
              "      height: 32px;\n",
              "      padding: 0 0 0 0;\n",
              "      width: 32px;\n",
              "    }\n",
              "\n",
              "    .colab-df-convert:hover {\n",
              "      background-color: #E2EBFA;\n",
              "      box-shadow: 0px 1px 2px rgba(60, 64, 67, 0.3), 0px 1px 3px 1px rgba(60, 64, 67, 0.15);\n",
              "      fill: #174EA6;\n",
              "    }\n",
              "\n",
              "    [theme=dark] .colab-df-convert {\n",
              "      background-color: #3B4455;\n",
              "      fill: #D2E3FC;\n",
              "    }\n",
              "\n",
              "    [theme=dark] .colab-df-convert:hover {\n",
              "      background-color: #434B5C;\n",
              "      box-shadow: 0px 1px 3px 1px rgba(0, 0, 0, 0.15);\n",
              "      filter: drop-shadow(0px 1px 2px rgba(0, 0, 0, 0.3));\n",
              "      fill: #FFFFFF;\n",
              "    }\n",
              "  </style>\n",
              "\n",
              "      <script>\n",
              "        const buttonEl =\n",
              "          document.querySelector('#df-c485ec7b-656b-4881-ad18-8e44fe731f31 button.colab-df-convert');\n",
              "        buttonEl.style.display =\n",
              "          google.colab.kernel.accessAllowed ? 'block' : 'none';\n",
              "\n",
              "        async function convertToInteractive(key) {\n",
              "          const element = document.querySelector('#df-c485ec7b-656b-4881-ad18-8e44fe731f31');\n",
              "          const dataTable =\n",
              "            await google.colab.kernel.invokeFunction('convertToInteractive',\n",
              "                                                     [key], {});\n",
              "          if (!dataTable) return;\n",
              "\n",
              "          const docLinkHtml = 'Like what you see? Visit the ' +\n",
              "            '<a target=\"_blank\" href=https://colab.research.google.com/notebooks/data_table.ipynb>data table notebook</a>'\n",
              "            + ' to learn more about interactive tables.';\n",
              "          element.innerHTML = '';\n",
              "          dataTable['output_type'] = 'display_data';\n",
              "          await google.colab.output.renderOutput(dataTable, element);\n",
              "          const docLink = document.createElement('div');\n",
              "          docLink.innerHTML = docLinkHtml;\n",
              "          element.appendChild(docLink);\n",
              "        }\n",
              "      </script>\n",
              "    </div>\n",
              "  </div>\n",
              "  "
            ]
          },
          "metadata": {},
          "execution_count": 63
        }
      ]
    },
    {
      "cell_type": "code",
      "source": [
        "#plotiing thr heat map for checking corelation\n",
        "plt.figure(figsize = (14, 8))\n",
        "sns.heatmap(data.corr(), annot = True, cmap=\"RdYlBu\")\n",
        "plt.show()"
      ],
      "metadata": {
        "colab": {
          "base_uri": "https://localhost:8080/",
          "height": 535
        },
        "id": "9iU7_6grfUKr",
        "outputId": "30d7eefd-d355-4479-d2d3-4ab91154c2a3"
      },
      "execution_count": 64,
      "outputs": [
        {
          "output_type": "display_data",
          "data": {
            "text/plain": [
              "<Figure size 1008x576 with 2 Axes>"
            ],
            "image/png": "[encoded data removed]"
          },
          "metadata": {
            "needs_background": "light"
          }
        }
      ]
    },
    {
      "cell_type": "markdown",
      "source": [
        "(a) **Features such as season, year, month, weekday, workingday, temp, atemp, casual, registered have positive correlation with the response. Registered feature has the highest positive correlation with the response.**"
      ],
      "metadata": {
        "id": "E61LVBI7Vwof"
      }
    },
    {
      "cell_type": "markdown",
      "source": [
        "(b) **Features such as holiday, weathersit, humidity, windspeed have negative correlation with the response**."
      ],
      "metadata": {
        "id": "VAf66pcWYjc6"
      }
    },
    {
      "cell_type": "code",
      "source": [
        "# dropping the casual and registered columns since addition of them is equal to the target variable cnt\n",
        "data.drop(['casual','registered'], axis=1 , inplace=True)"
      ],
      "metadata": {
        "id": "7YMV5hfgcQUn"
      },
      "execution_count": 65,
      "outputs": []
    },
    {
      "cell_type": "code",
      "source": [
        "# The coorelation between temp and atemp is very high 0.99. So we ignore one of them\n",
        "data.drop(['atemp'], axis=1 , inplace=True)"
      ],
      "metadata": {
        "id": "N9xh-DolefTl"
      },
      "execution_count": 66,
      "outputs": []
    },
    {
      "cell_type": "code",
      "source": [
        "# Replacing Categorical variables with meaningful name\n",
        "data['season'] = data['season'].map({1:'spring', 2:'summer', 3:'fall', 4:'winter'})\n",
        "data['mnth'] = data['mnth'].map({1:'jan',2:'feb',3:'mar',4:'apr',5:'may',6:'june',7:'july',8:'aug',9:'sep',10:'oct',11:'nov',12:'dec'})\n",
        "data['weekday'] = data['weekday'].map({0:'sun',1:'mon',2:'tue',3:'wed',4:'thu',5:'fri',6:'sat'})\n",
        "data['weathersit'] = data['weathersit'].map({1:\"Clear_Few Clouds_Partly Clouds\",2:\"Mist_cloudy\",3:\"Light snow_Light rain_Thunderstorm\",4:\"Heavy Rain_Ice Pallets\"})"
      ],
      "metadata": {
        "id": "WExVSK9agGgA"
      },
      "execution_count": 67,
      "outputs": []
    },
    {
      "cell_type": "code",
      "source": [
        "data.info()"
      ],
      "metadata": {
        "colab": {
          "base_uri": "https://localhost:8080/"
        },
        "id": "9H-MLy86fTaT",
        "outputId": "695de770-2f38-4e73-96ec-ccf1fde3b75f"
      },
      "execution_count": 68,
      "outputs": [
        {
          "output_type": "stream",
          "name": "stdout",
          "text": [
            "<class 'pandas.core.frame.DataFrame'>\n",
            "RangeIndex: 731 entries, 0 to 730\n",
            "Data columns (total 11 columns):\n",
            " #   Column      Non-Null Count  Dtype  \n",
            "---  ------      --------------  -----  \n",
            " 0   season      731 non-null    object \n",
            " 1   yr          731 non-null    int64  \n",
            " 2   mnth        731 non-null    object \n",
            " 3   holiday     731 non-null    int64  \n",
            " 4   weekday     731 non-null    object \n",
            " 5   workingday  731 non-null    int64  \n",
            " 6   weathersit  731 non-null    object \n",
            " 7   temp        731 non-null    float64\n",
            " 8   hum         731 non-null    float64\n",
            " 9   windspeed   731 non-null    float64\n",
            " 10  cnt         731 non-null    int64  \n",
            "dtypes: float64(3), int64(4), object(4)\n",
            "memory usage: 62.9+ KB\n"
          ]
        }
      ]
    },
    {
      "cell_type": "code",
      "source": [
        "# Creating Dummy Variable for season, mnth, weekday, weathersit\n",
        "df_seasons = pd.get_dummies(data.season,drop_first=True)\n",
        "df_months = pd.get_dummies(data.mnth,drop_first=True)\n",
        "df_weekdays = pd.get_dummies(data.weekday,drop_first=True)\n",
        "df_weathersit = pd.get_dummies(data.weathersit,drop_first=True)"
      ],
      "metadata": {
        "id": "k9lgZEtmgm4H"
      },
      "execution_count": 69,
      "outputs": []
    },
    {
      "cell_type": "code",
      "source": [
        "# concating all the dataframe to the original data\n",
        "data = pd.concat([data,df_seasons,df_months,df_weekdays,df_weathersit],axis=1)"
      ],
      "metadata": {
        "id": "VXo7dSdIgnXe"
      },
      "execution_count": 70,
      "outputs": []
    },
    {
      "cell_type": "code",
      "source": [
        "# Dropping season, mnth, weekday, weathersit columns as we have already created dummy variable out of it.\n",
        "data.drop(['season','mnth','weekday','weathersit'], axis = 1, inplace = True)"
      ],
      "metadata": {
        "id": "KaIfpGNehvHv"
      },
      "execution_count": 71,
      "outputs": []
    },
    {
      "cell_type": "code",
      "source": [
        "data.head()"
      ],
      "metadata": {
        "colab": {
          "base_uri": "https://localhost:8080/",
          "height": 297
        },
        "id": "R5Bj9hvjiRqa",
        "outputId": "f8ff7a40-eaef-46fa-afe4-5ade88d3f95e"
      },
      "execution_count": 72,
      "outputs": [
        {
          "output_type": "execute_result",
          "data": {
            "text/plain": [
              "   yr  holiday  workingday      temp       hum  windspeed   cnt  spring  \\\n",
              "0   0        0           0  0.344167  0.805833   0.160446   985       1   \n",
              "1   0        0           0  0.363478  0.696087   0.248539   801       1   \n",
              "2   0        0           1  0.196364  0.437273   0.248309  1349       1   \n",
              "3   0        0           1  0.200000  0.590435   0.160296  1562       1   \n",
              "4   0        0           1  0.226957  0.436957   0.186900  1600       1   \n",
              "\n",
              "   summer  winter  ...  oct  sep  mon  sat  sun  thu  tue  wed  \\\n",
              "0       0       0  ...    0    0    0    1    0    0    0    0   \n",
              "1       0       0  ...    0    0    0    0    1    0    0    0   \n",
              "2       0       0  ...    0    0    1    0    0    0    0    0   \n",
              "3       0       0  ...    0    0    0    0    0    0    1    0   \n",
              "4       0       0  ...    0    0    0    0    0    0    0    1   \n",
              "\n",
              "   Light snow_Light rain_Thunderstorm  Mist_cloudy  \n",
              "0                                   0            1  \n",
              "1                                   0            1  \n",
              "2                                   0            0  \n",
              "3                                   0            0  \n",
              "4                                   0            0  \n",
              "\n",
              "[5 rows x 29 columns]"
            ],
            "text/html": [
              "\n",
              "  <div id=\"df-eaa3cfb6-fba9-41c1-9d7f-9e02439811d9\">\n",
              "    <div class=\"colab-df-container\">\n",
              "      <div>\n",
              "<style scoped>\n",
              "    .dataframe tbody tr th:only-of-type {\n",
              "        vertical-align: middle;\n",
              "    }\n",
              "\n",
              "    .dataframe tbody tr th {\n",
              "        vertical-align: top;\n",
              "    }\n",
              "\n",
              "    .dataframe thead th {\n",
              "        text-align: right;\n",
              "    }\n",
              "</style>\n",
              "<table border=\"1\" class=\"dataframe\">\n",
              "  <thead>\n",
              "    <tr style=\"text-align: right;\">\n",
              "      <th></th>\n",
              "      <th>yr</th>\n",
              "      <th>holiday</th>\n",
              "      <th>workingday</th>\n",
              "      <th>temp</th>\n",
              "      <th>hum</th>\n",
              "      <th>windspeed</th>\n",
              "      <th>cnt</th>\n",
              "      <th>spring</th>\n",
              "      <th>summer</th>\n",
              "      <th>winter</th>\n",
              "      <th>...</th>\n",
              "      <th>oct</th>\n",
              "      <th>sep</th>\n",
              "      <th>mon</th>\n",
              "      <th>sat</th>\n",
              "      <th>sun</th>\n",
              "      <th>thu</th>\n",
              "      <th>tue</th>\n",
              "      <th>wed</th>\n",
              "      <th>Light snow_Light rain_Thunderstorm</th>\n",
              "      <th>Mist_cloudy</th>\n",
              "    </tr>\n",
              "  </thead>\n",
              "  <tbody>\n",
              "    <tr>\n",
              "      <th>0</th>\n",
              "      <td>0</td>\n",
              "      <td>0</td>\n",
              "      <td>0</td>\n",
              "      <td>0.344167</td>\n",
              "      <td>0.805833</td>\n",
              "      <td>0.160446</td>\n",
              "      <td>985</td>\n",
              "      <td>1</td>\n",
              "      <td>0</td>\n",
              "      <td>0</td>\n",
              "      <td>...</td>\n",
              "      <td>0</td>\n",
              "      <td>0</td>\n",
              "      <td>0</td>\n",
              "      <td>1</td>\n",
              "      <td>0</td>\n",
              "      <td>0</td>\n",
              "      <td>0</td>\n",
              "      <td>0</td>\n",
              "      <td>0</td>\n",
              "      <td>1</td>\n",
              "    </tr>\n",
              "    <tr>\n",
              "      <th>1</th>\n",
              "      <td>0</td>\n",
              "      <td>0</td>\n",
              "      <td>0</td>\n",
              "      <td>0.363478</td>\n",
              "      <td>0.696087</td>\n",
              "      <td>0.248539</td>\n",
              "      <td>801</td>\n",
              "      <td>1</td>\n",
              "      <td>0</td>\n",
              "      <td>0</td>\n",
              "      <td>...</td>\n",
              "      <td>0</td>\n",
              "      <td>0</td>\n",
              "      <td>0</td>\n",
              "      <td>0</td>\n",
              "      <td>1</td>\n",
              "      <td>0</td>\n",
              "      <td>0</td>\n",
              "      <td>0</td>\n",
              "      <td>0</td>\n",
              "      <td>1</td>\n",
              "    </tr>\n",
              "    <tr>\n",
              "      <th>2</th>\n",
              "      <td>0</td>\n",
              "      <td>0</td>\n",
              "      <td>1</td>\n",
              "      <td>0.196364</td>\n",
              "      <td>0.437273</td>\n",
              "      <td>0.248309</td>\n",
              "      <td>1349</td>\n",
              "      <td>1</td>\n",
              "      <td>0</td>\n",
              "      <td>0</td>\n",
              "      <td>...</td>\n",
              "      <td>0</td>\n",
              "      <td>0</td>\n",
              "      <td>1</td>\n",
              "      <td>0</td>\n",
              "      <td>0</td>\n",
              "      <td>0</td>\n",
              "      <td>0</td>\n",
              "      <td>0</td>\n",
              "      <td>0</td>\n",
              "      <td>0</td>\n",
              "    </tr>\n",
              "    <tr>\n",
              "      <th>3</th>\n",
              "      <td>0</td>\n",
              "      <td>0</td>\n",
              "      <td>1</td>\n",
              "      <td>0.200000</td>\n",
              "      <td>0.590435</td>\n",
              "      <td>0.160296</td>\n",
              "      <td>1562</td>\n",
              "      <td>1</td>\n",
              "      <td>0</td>\n",
              "      <td>0</td>\n",
              "      <td>...</td>\n",
              "      <td>0</td>\n",
              "      <td>0</td>\n",
              "      <td>0</td>\n",
              "      <td>0</td>\n",
              "      <td>0</td>\n",
              "      <td>0</td>\n",
              "      <td>1</td>\n",
              "      <td>0</td>\n",
              "      <td>0</td>\n",
              "      <td>0</td>\n",
              "    </tr>\n",
              "    <tr>\n",
              "      <th>4</th>\n",
              "      <td>0</td>\n",
              "      <td>0</td>\n",
              "      <td>1</td>\n",
              "      <td>0.226957</td>\n",
              "      <td>0.436957</td>\n",
              "      <td>0.186900</td>\n",
              "      <td>1600</td>\n",
              "      <td>1</td>\n",
              "      <td>0</td>\n",
              "      <td>0</td>\n",
              "      <td>...</td>\n",
              "      <td>0</td>\n",
              "      <td>0</td>\n",
              "      <td>0</td>\n",
              "      <td>0</td>\n",
              "      <td>0</td>\n",
              "      <td>0</td>\n",
              "      <td>0</td>\n",
              "      <td>1</td>\n",
              "      <td>0</td>\n",
              "      <td>0</td>\n",
              "    </tr>\n",
              "  </tbody>\n",
              "</table>\n",
              "<p>5 rows × 29 columns</p>\n",
              "</div>\n",
              "      <button class=\"colab-df-convert\" onclick=\"convertToInteractive('df-eaa3cfb6-fba9-41c1-9d7f-9e02439811d9')\"\n",
              "              title=\"Convert this dataframe to an interactive table.\"\n",
              "              style=\"display:none;\">\n",
              "        \n",
              "  <svg xmlns=\"http://www.w3.org/2000/svg\" height=\"24px\"viewBox=\"0 0 24 24\"\n",
              "       width=\"24px\">\n",
              "    <path d=\"M0 0h24v24H0V0z\" fill=\"none\"/>\n",
              "    <path d=\"M18.56 5.44l.94 2.06.94-2.06 2.06-.94-2.06-.94-.94-2.06-.94 2.06-2.06.94zm-11 1L8.5 8.5l.94-2.06 2.06-.94-2.06-.94L8.5 2.5l-.94 2.06-2.06.94zm10 10l.94 2.06.94-2.06 2.06-.94-2.06-.94-.94-2.06-.94 2.06-2.06.94z\"/><path d=\"M17.41 7.96l-1.37-1.37c-.4-.4-.92-.59-1.43-.59-.52 0-1.04.2-1.43.59L10.3 9.45l-7.72 7.72c-.78.78-.78 2.05 0 2.83L4 21.41c.39.39.9.59 1.41.59.51 0 1.02-.2 1.41-.59l7.78-7.78 2.81-2.81c.8-.78.8-2.07 0-2.86zM5.41 20L4 18.59l7.72-7.72 1.47 1.35L5.41 20z\"/>\n",
              "  </svg>\n",
              "      </button>\n",
              "      \n",
              "  <style>\n",
              "    .colab-df-container {\n",
              "      display:flex;\n",
              "      flex-wrap:wrap;\n",
              "      gap: 12px;\n",
              "    }\n",
              "\n",
              "    .colab-df-convert {\n",
              "      background-color: #E8F0FE;\n",
              "      border: none;\n",
              "      border-radius: 50%;\n",
              "      cursor: pointer;\n",
              "      display: none;\n",
              "      fill: #1967D2;\n",
              "      height: 32px;\n",
              "      padding: 0 0 0 0;\n",
              "      width: 32px;\n",
              "    }\n",
              "\n",
              "    .colab-df-convert:hover {\n",
              "      background-color: #E2EBFA;\n",
              "      box-shadow: 0px 1px 2px rgba(60, 64, 67, 0.3), 0px 1px 3px 1px rgba(60, 64, 67, 0.15);\n",
              "      fill: #174EA6;\n",
              "    }\n",
              "\n",
              "    [theme=dark] .colab-df-convert {\n",
              "      background-color: #3B4455;\n",
              "      fill: #D2E3FC;\n",
              "    }\n",
              "\n",
              "    [theme=dark] .colab-df-convert:hover {\n",
              "      background-color: #434B5C;\n",
              "      box-shadow: 0px 1px 3px 1px rgba(0, 0, 0, 0.15);\n",
              "      filter: drop-shadow(0px 1px 2px rgba(0, 0, 0, 0.3));\n",
              "      fill: #FFFFFF;\n",
              "    }\n",
              "  </style>\n",
              "\n",
              "      <script>\n",
              "        const buttonEl =\n",
              "          document.querySelector('#df-eaa3cfb6-fba9-41c1-9d7f-9e02439811d9 button.colab-df-convert');\n",
              "        buttonEl.style.display =\n",
              "          google.colab.kernel.accessAllowed ? 'block' : 'none';\n",
              "\n",
              "        async function convertToInteractive(key) {\n",
              "          const element = document.querySelector('#df-eaa3cfb6-fba9-41c1-9d7f-9e02439811d9');\n",
              "          const dataTable =\n",
              "            await google.colab.kernel.invokeFunction('convertToInteractive',\n",
              "                                                     [key], {});\n",
              "          if (!dataTable) return;\n",
              "\n",
              "          const docLinkHtml = 'Like what you see? Visit the ' +\n",
              "            '<a target=\"_blank\" href=https://colab.research.google.com/notebooks/data_table.ipynb>data table notebook</a>'\n",
              "            + ' to learn more about interactive tables.';\n",
              "          element.innerHTML = '';\n",
              "          dataTable['output_type'] = 'display_data';\n",
              "          await google.colab.output.renderOutput(dataTable, element);\n",
              "          const docLink = document.createElement('div');\n",
              "          docLink.innerHTML = docLinkHtml;\n",
              "          element.appendChild(docLink);\n",
              "        }\n",
              "      </script>\n",
              "    </div>\n",
              "  </div>\n",
              "  "
            ]
          },
          "metadata": {},
          "execution_count": 72
        }
      ]
    },
    {
      "cell_type": "markdown",
      "source": [
        "Step 2 : Splitting the dataset into Training and Test data"
      ],
      "metadata": {
        "id": "m14f4FXCfSI5"
      }
    },
    {
      "cell_type": "code",
      "source": [
        "# importing the library for models\n",
        "from sklearn.model_selection import train_test_split\n",
        "data_train, data_test = train_test_split(data, train_size = 0.7, test_size = 0.3, random_state = 100)"
      ],
      "metadata": {
        "id": "dFs-oYyufZWk"
      },
      "execution_count": 73,
      "outputs": []
    },
    {
      "cell_type": "code",
      "source": [
        "## creating the X anf y variable\n",
        "y_train = data_train.pop('cnt')\n",
        "X_train = data_train\n",
        "y_test = data_test.pop('cnt')\n",
        "X_test = data_test"
      ],
      "metadata": {
        "id": "CYr9ldv6h8zk"
      },
      "execution_count": 74,
      "outputs": []
    },
    {
      "cell_type": "code",
      "source": [
        "# Fitting Multiple Linear Regression to the Training set\n",
        "from sklearn.linear_model import LinearRegression\n",
        "regressor = LinearRegression()\n",
        "regressor.fit(X_train, y_train)"
      ],
      "metadata": {
        "colab": {
          "base_uri": "https://localhost:8080/"
        },
        "id": "w4JMwP9ekSAw",
        "outputId": "ac74469b-aade-46c1-9391-56e829189061"
      },
      "execution_count": 75,
      "outputs": [
        {
          "output_type": "execute_result",
          "data": {
            "text/plain": [
              "LinearRegression()"
            ]
          },
          "metadata": {},
          "execution_count": 75
        }
      ]
    },
    {
      "cell_type": "code",
      "source": [
        "# Predicting the Train set results\n",
        "y_train_pred = regressor.predict(X_train)\n",
        "regressor.coef_\n",
        "print(\"The coefficients of linear regression for training data are: {}\".format(regressor.coef_))"
      ],
      "metadata": {
        "colab": {
          "base_uri": "https://localhost:8080/"
        },
        "id": "y45GYL5UlTrP",
        "outputId": "76cf598e-5eb3-4287-884f-27ee3a1b42fd"
      },
      "execution_count": 76,
      "outputs": [
        {
          "output_type": "stream",
          "name": "stdout",
          "text": [
            "The coefficients of linear regression for training data are: [ 2044.0383026   -238.55477821   162.64236788  4565.8067981\n",
            " -1452.88758254 -3640.38734077  -651.18183999   159.95495262\n",
            "   799.68585621    34.76953037  -446.8007358   -334.18573965\n",
            "  -568.51585517  -453.52552747    39.12055934    41.75430804\n",
            "   270.00200064  -437.72568603   107.00640329   563.54754728\n",
            "  -210.17544613   263.95545781  -188.04304748     9.75095626\n",
            "   -69.68794958   -13.62952468 -2196.15272961  -477.85457704]\n"
          ]
        }
      ]
    },
    {
      "cell_type": "code",
      "source": [
        "from sklearn.metrics import mean_squared_error\n",
        "mse = mean_squared_error(y_train, y_train_pred)\n",
        "rmse = math.sqrt(mse)\n",
        "print(\"The root mean squared error in our dataset for training data is: {}\".format(rmse))"
      ],
      "metadata": {
        "colab": {
          "base_uri": "https://localhost:8080/"
        },
        "id": "abO1XGR2mw7u",
        "outputId": "94147b48-8678-4228-c232-f5d5cecf2c6c"
      },
      "execution_count": 77,
      "outputs": [
        {
          "output_type": "stream",
          "name": "stdout",
          "text": [
            "The root mean squared error in our dataset for training data is: 741.581034009279\n"
          ]
        }
      ]
    },
    {
      "cell_type": "code",
      "source": [
        "from sklearn.metrics import r2_score\n",
        "r2 = r2_score(y_train, y_train_pred)\n",
        "print(\"The R squared value in our dataset for training data is: {}\".format(r2))"
      ],
      "metadata": {
        "colab": {
          "base_uri": "https://localhost:8080/"
        },
        "id": "id13WVUYrECa",
        "outputId": "5ef5de69-fa35-45d7-a052-1050a1d7180b"
      },
      "execution_count": 78,
      "outputs": [
        {
          "output_type": "stream",
          "name": "stdout",
          "text": [
            "The R squared value in our dataset for training data is: 0.8563648176598042\n"
          ]
        }
      ]
    },
    {
      "cell_type": "markdown",
      "source": [
        "(c) The coefficients of linear regression for training data are: [ 2044.0383026   -238.55477821   162.64236788  4565.8067981\n",
        " -1452.88758254 -3640.38734077  -651.18183999   159.95495262\n",
        "   799.68585621    34.76953037  -446.8007358   -334.18573965\n",
        "  -568.51585517  -453.52552747    39.12055934    41.75430804\n",
        "   270.00200064  -437.72568603   107.00640329   563.54754728\n",
        "  -210.17544613   263.95545781  -188.04304748     9.75095626\n",
        "   -69.68794958   -13.62952468 -2196.15272961  -477.85457704]\n",
        "\n",
        "  (1) The root mean squared error in our dataset for training data is: 741.581034009279. \n",
        " \n",
        "  (2) The R squared value in our dataset for training data is: 0.8563648176598042\n",
        "\n"
      ],
      "metadata": {
        "id": "Dyfy6cFKvAci"
      }
    },
    {
      "cell_type": "code",
      "source": [
        "# Predicting the Test set results\n",
        "y_test_pred = regressor.predict(X_test)"
      ],
      "metadata": {
        "id": "vcENcAAnrUrH"
      },
      "execution_count": 79,
      "outputs": []
    },
    {
      "cell_type": "code",
      "source": [
        "from sklearn.metrics import mean_squared_error\n",
        "mse = mean_squared_error(y_test, y_test_pred)\n",
        "rmse = math.sqrt(mse)\n",
        "print(\"The root mean squared error in our dataset for test data is: {}\".format(rmse))"
      ],
      "metadata": {
        "colab": {
          "base_uri": "https://localhost:8080/"
        },
        "id": "EwZtko_gsC5I",
        "outputId": "ecf5faa1-5451-446a-9881-87e10ede2321"
      },
      "execution_count": 80,
      "outputs": [
        {
          "output_type": "stream",
          "name": "stdout",
          "text": [
            "The root mean squared error in our dataset for test data is: 803.6864685947774\n"
          ]
        }
      ]
    },
    {
      "cell_type": "code",
      "source": [
        "from sklearn.metrics import r2_score\n",
        "r2 = r2_score(y_test, y_test_pred)\n",
        "print(\"The R squared value in our dataset for test data is: {}\".format(r2))"
      ],
      "metadata": {
        "colab": {
          "base_uri": "https://localhost:8080/"
        },
        "id": "3AyPTzWLs_rv",
        "outputId": "8c8c63e8-ffa2-4abf-e8f6-bc90c55c0640"
      },
      "execution_count": 81,
      "outputs": [
        {
          "output_type": "stream",
          "name": "stdout",
          "text": [
            "The R squared value in our dataset for test data is: 0.8185169547882418\n"
          ]
        }
      ]
    },
    {
      "cell_type": "markdown",
      "source": [
        "(d) The root mean squared error in our dataset for test data is: 803.6864685947774.\n",
        "\n",
        "The R squared value in our dataset for test data is: 0.8185169547882418\n"
      ],
      "metadata": {
        "id": "1B14emJLvvxc"
      }
    },
    {
      "cell_type": "code",
      "source": [
        "# Visualizing the fit on the test data\n",
        "# plotting a Regression plot\n",
        "\n",
        "plt.figure()\n",
        "sns.regplot(x=y_test, y=y_test_pred, ci=68, fit_reg=True,scatter_kws={\"color\": \"blue\"}, line_kws={\"color\": \"red\"})\n",
        "plt.title('y_train vs y_train_pred', fontsize=20)\n",
        "plt.xlabel('y_train', fontsize=18)\n",
        "plt.ylabel('y_train_pred', fontsize=16)\n",
        "plt.show()"
      ],
      "metadata": {
        "colab": {
          "base_uri": "https://localhost:8080/",
          "height": 309
        },
        "id": "a7ZM4N-2tmxg",
        "outputId": "8ce51667-1bad-47b4-90fc-fa93bd79c8a9"
      },
      "execution_count": 82,
      "outputs": [
        {
          "output_type": "display_data",
          "data": {
            "text/plain": [
              "<Figure size 432x288 with 1 Axes>"
            ],
            "image/png": "[encoded data removed]"
          },
          "metadata": {
            "needs_background": "light"
          }
        }
      ]
    },
    {
      "cell_type": "code",
      "source": [
        "plt.figure()\n",
        "sns.regplot(x=y_test, y=y_test_pred, ci=68, fit_reg=True,scatter_kws={\"color\": \"orange\"}, line_kws={\"color\": \"crimson\"})\n",
        "plt.title('y_test vs y_test_pred', fontsize=20)\n",
        "plt.xlabel('y_test', fontsize=18)\n",
        "plt.ylabel('y_test_pred', fontsize=16)\n",
        "plt.show()"
      ],
      "metadata": {
        "colab": {
          "base_uri": "https://localhost:8080/",
          "height": 308
        },
        "id": "mMf12EZAuknI",
        "outputId": "a46d801d-fa7e-4922-b6d6-04abd0cfacf3"
      },
      "execution_count": 85,
      "outputs": [
        {
          "output_type": "display_data",
          "data": {
            "text/plain": [
              "<Figure size 432x288 with 1 Axes>"
            ],
            "image/png": "[encoded data removed]"
          },
          "metadata": {
            "needs_background": "light"
          }
        }
      ]
    },
    {
      "cell_type": "markdown",
      "source": [
        "(e)  We see that root mean square error for the training data is about 741.58 and the root mean square error for the testing data is 803.68 respectively. The features in our linear regression model that have positive relationship with the cnt are temp and year respectively. Yes, the model is linearly fitting the data since the model error is very less which can be calculated by the difference between RMSE for test and training data equal to \n",
        "803.68 - 741.58 = 62.1 respectively."
      ],
      "metadata": {
        "id": "2_5OrXpEWnDa"
      }
    },
    {
      "cell_type": "markdown",
      "source": [
        "**Problem 5**"
      ],
      "metadata": {
        "id": "zw9TIGjMIOxM"
      }
    },
    {
      "cell_type": "code",
      "source": [
        "#Importing the inbuilt dataset in sklearn package for performing regression analysis.\n",
        "from sklearn import datasets\n",
        "diabetes = datasets.load_diabetes()\n",
        "df_db = pd.DataFrame(diabetes.data, columns=diabetes.feature_names)"
      ],
      "metadata": {
        "id": "tx9FJp_UGUc9"
      },
      "execution_count": 103,
      "outputs": []
    },
    {
      "cell_type": "code",
      "source": [
        "#Add dependent variable to the dataset\n",
        "df_db['Progression'] = diabetes.target"
      ],
      "metadata": {
        "id": "u_NuzB9fGeBX"
      },
      "execution_count": 104,
      "outputs": []
    },
    {
      "cell_type": "code",
      "source": [
        "# Columns of serum measurement are not useful in model building so simply we can drop it.\n",
        "df_db.drop(['s1','s2','s3','s4','s5','s6'], axis=1 , inplace=True)"
      ],
      "metadata": {
        "id": "2EHlJT2pGhMf"
      },
      "execution_count": 105,
      "outputs": []
    },
    {
      "cell_type": "code",
      "source": [
        "#independent variables / explanatory variables\n",
        "x = df_db.drop(labels='Progression', axis=1)  \n",
        "#dependent variable / response / target variable.\n",
        "y = df_db['Progression']"
      ],
      "metadata": {
        "id": "ozO9liRPGhKM"
      },
      "execution_count": 106,
      "outputs": []
    },
    {
      "cell_type": "code",
      "source": [
        "#splitting the dataset into 70%-30% train-test split \n",
        "X_train, X_test, y_train, y_test = train_test_split(x,y,train_size = 0.7, test_size = 0.3,random_state=100)"
      ],
      "metadata": {
        "id": "OW2UdOaAGhHn"
      },
      "execution_count": 107,
      "outputs": []
    },
    {
      "cell_type": "code",
      "source": [
        "lm = LinearRegression()\n",
        "lm.fit(X_train, y_train)"
      ],
      "metadata": {
        "colab": {
          "base_uri": "https://localhost:8080/"
        },
        "id": "0gMgjoIoGg_z",
        "outputId": "fa365fb7-fd68-4e81-efe0-8aa04048d410"
      },
      "execution_count": 113,
      "outputs": [
        {
          "output_type": "execute_result",
          "data": {
            "text/plain": [
              "LinearRegression()"
            ]
          },
          "metadata": {},
          "execution_count": 113
        }
      ]
    },
    {
      "cell_type": "code",
      "source": [
        "# Predict the progression of diabetes based on test data\n",
        "y_pred = lm.predict(X_test)"
      ],
      "metadata": {
        "id": "EoHcGuYLGg8O"
      },
      "execution_count": 109,
      "outputs": []
    },
    {
      "cell_type": "code",
      "source": [
        "#the coefficients & intercepts of the Regression Equation\n",
        "coeff = pd.Series(lm.coef_, index = X_train.columns)\n",
        "intercept = lm.intercept_"
      ],
      "metadata": {
        "id": "OvapKpfjGg4i"
      },
      "execution_count": 110,
      "outputs": []
    },
    {
      "cell_type": "code",
      "source": [
        "print(\"Coefficients:\\n\")\n",
        "print(coeff)\n",
        "print(\"\\n\")\n",
        "print(\"Intercept:\\n\")\n",
        "print(intercept)\n",
        "print(\"\\n\")"
      ],
      "metadata": {
        "colab": {
          "base_uri": "https://localhost:8080/"
        },
        "id": "TH0bKt0kGg08",
        "outputId": "b0fbbf64-dad3-4635-bdff-8b535888ab25"
      },
      "execution_count": 111,
      "outputs": [
        {
          "output_type": "stream",
          "name": "stdout",
          "text": [
            "Coefficients:\n",
            "\n",
            "age     35.301961\n",
            "sex   -105.832278\n",
            "bmi    837.212681\n",
            "bp     400.228131\n",
            "dtype: float64\n",
            "\n",
            "\n",
            "Intercept:\n",
            "\n",
            "153.70892108809244\n",
            "\n",
            "\n"
          ]
        }
      ]
    },
    {
      "cell_type": "markdown",
      "source": [
        "(b) Based on the outcomes from the coefficients, we see that age, bmi and bp  have positive outcomes with the target variable. That is, the patients having high bp are more prone towards disease progression according to our linear regression model. We can also see that sex feature possess negative relationship, meaning there is less possibility of patient being diagnosed with diabetes based on sex."
      ],
      "metadata": {
        "id": "NbT9VGCVHFJ2"
      }
    },
    {
      "cell_type": "markdown",
      "source": [
        "(c) The equation is Y = 153.7089 + 35.3019 * X1 - 105.8322 * X2 + 837.2126 * X3 + 400.2281 * X4"
      ],
      "metadata": {
        "id": "BQraP87hHJMv"
      }
    },
    {
      "cell_type": "code",
      "source": [
        "import statsmodels.api as sm\n",
        "x = sm.add_constant(X_train)\n",
        "model = sm.OLS(y_train,x)\n",
        "result = model.fit()\n",
        "result.conf_int(alpha=0.05)"
      ],
      "metadata": {
        "colab": {
          "base_uri": "https://localhost:8080/",
          "height": 206
        },
        "id": "RftijD3YH-xV",
        "outputId": "dee84f8b-5b71-44d5-8905-6575a551aff0"
      },
      "execution_count": 114,
      "outputs": [
        {
          "output_type": "execute_result",
          "data": {
            "text/plain": [
              "                0           1\n",
              "const  146.826946  160.590897\n",
              "age   -118.180606  188.784528\n",
              "sex   -254.666185   43.001629\n",
              "bmi    683.145380  991.279982\n",
              "bp     239.087085  561.369177"
            ],
            "text/html": [
              "\n",
              "  <div id=\"df-812468c3-40dc-4f16-8eed-9e7809de5103\">\n",
              "    <div class=\"colab-df-container\">\n",
              "      <div>\n",
              "<style scoped>\n",
              "    .dataframe tbody tr th:only-of-type {\n",
              "        vertical-align: middle;\n",
              "    }\n",
              "\n",
              "    .dataframe tbody tr th {\n",
              "        vertical-align: top;\n",
              "    }\n",
              "\n",
              "    .dataframe thead th {\n",
              "        text-align: right;\n",
              "    }\n",
              "</style>\n",
              "<table border=\"1\" class=\"dataframe\">\n",
              "  <thead>\n",
              "    <tr style=\"text-align: right;\">\n",
              "      <th></th>\n",
              "      <th>0</th>\n",
              "      <th>1</th>\n",
              "    </tr>\n",
              "  </thead>\n",
              "  <tbody>\n",
              "    <tr>\n",
              "      <th>const</th>\n",
              "      <td>146.826946</td>\n",
              "      <td>160.590897</td>\n",
              "    </tr>\n",
              "    <tr>\n",
              "      <th>age</th>\n",
              "      <td>-118.180606</td>\n",
              "      <td>188.784528</td>\n",
              "    </tr>\n",
              "    <tr>\n",
              "      <th>sex</th>\n",
              "      <td>-254.666185</td>\n",
              "      <td>43.001629</td>\n",
              "    </tr>\n",
              "    <tr>\n",
              "      <th>bmi</th>\n",
              "      <td>683.145380</td>\n",
              "      <td>991.279982</td>\n",
              "    </tr>\n",
              "    <tr>\n",
              "      <th>bp</th>\n",
              "      <td>239.087085</td>\n",
              "      <td>561.369177</td>\n",
              "    </tr>\n",
              "  </tbody>\n",
              "</table>\n",
              "</div>\n",
              "      <button class=\"colab-df-convert\" onclick=\"convertToInteractive('df-812468c3-40dc-4f16-8eed-9e7809de5103')\"\n",
              "              title=\"Convert this dataframe to an interactive table.\"\n",
              "              style=\"display:none;\">\n",
              "        \n",
              "  <svg xmlns=\"http://www.w3.org/2000/svg\" height=\"24px\"viewBox=\"0 0 24 24\"\n",
              "       width=\"24px\">\n",
              "    <path d=\"M0 0h24v24H0V0z\" fill=\"none\"/>\n",
              "    <path d=\"M18.56 5.44l.94 2.06.94-2.06 2.06-.94-2.06-.94-.94-2.06-.94 2.06-2.06.94zm-11 1L8.5 8.5l.94-2.06 2.06-.94-2.06-.94L8.5 2.5l-.94 2.06-2.06.94zm10 10l.94 2.06.94-2.06 2.06-.94-2.06-.94-.94-2.06-.94 2.06-2.06.94z\"/><path d=\"M17.41 7.96l-1.37-1.37c-.4-.4-.92-.59-1.43-.59-.52 0-1.04.2-1.43.59L10.3 9.45l-7.72 7.72c-.78.78-.78 2.05 0 2.83L4 21.41c.39.39.9.59 1.41.59.51 0 1.02-.2 1.41-.59l7.78-7.78 2.81-2.81c.8-.78.8-2.07 0-2.86zM5.41 20L4 18.59l7.72-7.72 1.47 1.35L5.41 20z\"/>\n",
              "  </svg>\n",
              "      </button>\n",
              "      \n",
              "  <style>\n",
              "    .colab-df-container {\n",
              "      display:flex;\n",
              "      flex-wrap:wrap;\n",
              "      gap: 12px;\n",
              "    }\n",
              "\n",
              "    .colab-df-convert {\n",
              "      background-color: #E8F0FE;\n",
              "      border: none;\n",
              "      border-radius: 50%;\n",
              "      cursor: pointer;\n",
              "      display: none;\n",
              "      fill: #1967D2;\n",
              "      height: 32px;\n",
              "      padding: 0 0 0 0;\n",
              "      width: 32px;\n",
              "    }\n",
              "\n",
              "    .colab-df-convert:hover {\n",
              "      background-color: #E2EBFA;\n",
              "      box-shadow: 0px 1px 2px rgba(60, 64, 67, 0.3), 0px 1px 3px 1px rgba(60, 64, 67, 0.15);\n",
              "      fill: #174EA6;\n",
              "    }\n",
              "\n",
              "    [theme=dark] .colab-df-convert {\n",
              "      background-color: #3B4455;\n",
              "      fill: #D2E3FC;\n",
              "    }\n",
              "\n",
              "    [theme=dark] .colab-df-convert:hover {\n",
              "      background-color: #434B5C;\n",
              "      box-shadow: 0px 1px 3px 1px rgba(0, 0, 0, 0.15);\n",
              "      filter: drop-shadow(0px 1px 2px rgba(0, 0, 0, 0.3));\n",
              "      fill: #FFFFFF;\n",
              "    }\n",
              "  </style>\n",
              "\n",
              "      <script>\n",
              "        const buttonEl =\n",
              "          document.querySelector('#df-812468c3-40dc-4f16-8eed-9e7809de5103 button.colab-df-convert');\n",
              "        buttonEl.style.display =\n",
              "          google.colab.kernel.accessAllowed ? 'block' : 'none';\n",
              "\n",
              "        async function convertToInteractive(key) {\n",
              "          const element = document.querySelector('#df-812468c3-40dc-4f16-8eed-9e7809de5103');\n",
              "          const dataTable =\n",
              "            await google.colab.kernel.invokeFunction('convertToInteractive',\n",
              "                                                     [key], {});\n",
              "          if (!dataTable) return;\n",
              "\n",
              "          const docLinkHtml = 'Like what you see? Visit the ' +\n",
              "            '<a target=\"_blank\" href=https://colab.research.google.com/notebooks/data_table.ipynb>data table notebook</a>'\n",
              "            + ' to learn more about interactive tables.';\n",
              "          element.innerHTML = '';\n",
              "          dataTable['output_type'] = 'display_data';\n",
              "          await google.colab.output.renderOutput(dataTable, element);\n",
              "          const docLink = document.createElement('div');\n",
              "          docLink.innerHTML = docLinkHtml;\n",
              "          element.appendChild(docLink);\n",
              "        }\n",
              "      </script>\n",
              "    </div>\n",
              "  </div>\n",
              "  "
            ]
          },
          "metadata": {},
          "execution_count": 114
        }
      ]
    },
    {
      "cell_type": "markdown",
      "source": [
        "(d) The confidence interval for age [-118.180606, 188.784528], sex [-254.666185, 43.001629], bmi [683.145380, 991.279982] & bp [239.087085, 561.369177]"
      ],
      "metadata": {
        "id": "PhkOxp_1ustA"
      }
    },
    {
      "cell_type": "markdown",
      "source": [
        "**Problem 6**"
      ],
      "metadata": {
        "id": "GDmYXGFuIBSZ"
      }
    },
    {
      "cell_type": "code",
      "source": [
        "# In this dataset value of n = 200 and the value of p = 1\n",
        "np.random.seed(12345)\n",
        "x = np.random.normal(0, 1, (200))\n",
        "y = x + 2 * x**2 - 2 * x**3 + np.random.normal(0, 1, (200))"
      ],
      "metadata": {
        "id": "e85_XojzICCT"
      },
      "execution_count": 41,
      "outputs": []
    },
    {
      "cell_type": "markdown",
      "source": [
        "(a) The model that was used to generate the data in equation form is Multiple Linear Regression."
      ],
      "metadata": {
        "id": "aCAGnB7vIhDL"
      }
    },
    {
      "cell_type": "code",
      "source": [
        "plt.scatter(x,y)\n",
        "plt.title('X against Y', fontsize=20)\n",
        "plt.xlabel('X', fontsize=18)\n",
        "plt.ylabel('Y', fontsize=16)\n",
        "plt.show()"
      ],
      "metadata": {
        "colab": {
          "base_uri": "https://localhost:8080/",
          "height": 308
        },
        "id": "k1cZCdiOInHy",
        "outputId": "a949e176-32e7-4f17-f305-b36a630a197b"
      },
      "execution_count": 42,
      "outputs": [
        {
          "output_type": "display_data",
          "data": {
            "text/plain": [
              "<Figure size 432x288 with 1 Axes>"
            ],
            "image/png": "[encoded data removed]"
          },
          "metadata": {
            "needs_background": "light"
          }
        }
      ]
    },
    {
      "cell_type": "markdown",
      "source": [
        "(b) The above curve seems to be linear for the X values between the range of  -1  and 1. However, it shows non linear behaviour with the increment and decrement in X values respectively."
      ],
      "metadata": {
        "id": "DXhVD7D9I2Vd"
      }
    },
    {
      "cell_type": "markdown",
      "source": [
        "(c) Computing with a seed value = 123"
      ],
      "metadata": {
        "id": "mYEG0QQzI8Qc"
      }
    },
    {
      "cell_type": "code",
      "source": [
        "np.random.seed(123)"
      ],
      "metadata": {
        "id": "4MesGb59I_74"
      },
      "execution_count": 43,
      "outputs": []
    },
    {
      "cell_type": "code",
      "source": [
        "X = np.random.normal(0, 1, (200))\n",
        "y = X + 2 * X**2 - 2 * X**3 + np.random.normal(0, 1, (200))\n",
        "X = X.reshape(-1, 1)\n",
        "y = y.reshape(-1, 1) "
      ],
      "metadata": {
        "id": "WOviNT5RJZO6"
      },
      "execution_count": 44,
      "outputs": []
    },
    {
      "cell_type": "code",
      "source": [
        "pf = PolynomialFeatures(degree = 1)\n",
        "X_pf = pf.fit_transform(X)\n",
        "loo = LeaveOneOut()\n",
        "lm = LinearRegression()\n",
        "cve = cross_val_score(estimator = lm, X = X_pf, y = y, cv = loo, scoring = 'neg_mean_squared_error').mean()\n",
        "print(\"The Average Cross Validation Error using Leave One Out Cross Validation is: {}\".format(cve))"
      ],
      "metadata": {
        "colab": {
          "base_uri": "https://localhost:8080/"
        },
        "id": "9ldoV0nkJfO3",
        "outputId": "5f187977-3a9f-4307-d5dc-f61eab94de23"
      },
      "execution_count": 45,
      "outputs": [
        {
          "output_type": "stream",
          "name": "stdout",
          "text": [
            "The Average Cross Validation Error using Leave One Out Cross Validation is: -54.44031803203236\n"
          ]
        }
      ]
    },
    {
      "cell_type": "code",
      "source": [
        "pf = PolynomialFeatures(degree = 2)\n",
        "X_pf = pf.fit_transform(X)\n",
        "loo = LeaveOneOut()\n",
        "lm = LinearRegression()\n",
        "cve = cross_val_score(estimator = lm, X = X_pf, y = y, cv = loo, scoring = 'neg_mean_squared_error').mean()\n",
        "print(\"The Average Cross Validation Error using Leave One Out Cross Validation is: {}\".format(cve))"
      ],
      "metadata": {
        "colab": {
          "base_uri": "https://localhost:8080/"
        },
        "id": "x7kqTTNVJhul",
        "outputId": "1f6d455f-c8bb-4e12-a41c-4268da3ed2a1"
      },
      "execution_count": 46,
      "outputs": [
        {
          "output_type": "stream",
          "name": "stdout",
          "text": [
            "The Average Cross Validation Error using Leave One Out Cross Validation is: -31.50170013487161\n"
          ]
        }
      ]
    },
    {
      "cell_type": "code",
      "source": [
        "pf = PolynomialFeatures(degree = 3)\n",
        "X_pf = pf.fit_transform(X)\n",
        "loo = LeaveOneOut()\n",
        "lm = LinearRegression()\n",
        "cve = cross_val_score(estimator = lm, X = X_pf, y = y, cv = loo, scoring = 'neg_mean_squared_error').mean()\n",
        "print(\"The Average Cross Validation Error using Leave One Out Cross Validation is: {}\".format(cve))"
      ],
      "metadata": {
        "colab": {
          "base_uri": "https://localhost:8080/"
        },
        "id": "GG_u3M9AJhIG",
        "outputId": "c9eeaacf-d762-45b6-d5e4-1058f1902536"
      },
      "execution_count": 47,
      "outputs": [
        {
          "output_type": "stream",
          "name": "stdout",
          "text": [
            "The Average Cross Validation Error using Leave One Out Cross Validation is: -0.8730559711228898\n"
          ]
        }
      ]
    },
    {
      "cell_type": "code",
      "source": [
        "pf = PolynomialFeatures(degree = 4)\n",
        "X_pf = pf.fit_transform(X)\n",
        "loo = LeaveOneOut()\n",
        "lm = LinearRegression()\n",
        "cve = cross_val_score(estimator = lm, X = X_pf, y = y, cv = loo, scoring = 'neg_mean_squared_error').mean()\n",
        "print(\"The Average Cross Validation Error using Leave One Out Cross Validation is: {}\".format(cve))"
      ],
      "metadata": {
        "colab": {
          "base_uri": "https://localhost:8080/"
        },
        "id": "7RJEHyK3JhEu",
        "outputId": "fdcd2ec1-4a95-43fc-9918-d0c18cdc4abd"
      },
      "execution_count": 48,
      "outputs": [
        {
          "output_type": "stream",
          "name": "stdout",
          "text": [
            "The Average Cross Validation Error using Leave One Out Cross Validation is: -0.8810894543450086\n"
          ]
        }
      ]
    },
    {
      "cell_type": "code",
      "source": [
        "pf = PolynomialFeatures(degree = 5)\n",
        "X_pf = pf.fit_transform(X)\n",
        "loo = LeaveOneOut()\n",
        "lm = LinearRegression()\n",
        "cross_validation_error = cross_val_score(estimator = lm, X = X_pf, y = y, cv = loo, scoring = 'neg_mean_squared_error').mean()\n",
        "print(\"The Average Cross Validation Error using Leave One Out Cross Validation is: {}\".format(cve))"
      ],
      "metadata": {
        "colab": {
          "base_uri": "https://localhost:8080/"
        },
        "id": "pgJlBY3dJg8W",
        "outputId": "94b270fa-dc54-422d-f8e3-2a47deb26e67"
      },
      "execution_count": 49,
      "outputs": [
        {
          "output_type": "stream",
          "name": "stdout",
          "text": [
            "The Average Cross Validation Error using Leave One Out Cross Validation is: -0.8810894543450086\n"
          ]
        }
      ]
    },
    {
      "cell_type": "markdown",
      "source": [
        "(c) Repeating with another seed value = 12345"
      ],
      "metadata": {
        "id": "LGBroIXHJ6pF"
      }
    },
    {
      "cell_type": "code",
      "source": [
        "np.random.seed(12345)"
      ],
      "metadata": {
        "id": "t9ZJhmzmJ9vG"
      },
      "execution_count": 50,
      "outputs": []
    },
    {
      "cell_type": "code",
      "source": [
        "X = np.random.normal(0, 1, (200))\n",
        "y = X + 2 * X**2 - 2 * X**3 + np.random.normal(0, 1, (200))\n",
        "X = X.reshape(-1, 1)\n",
        "y = y.reshape(-1, 1) "
      ],
      "metadata": {
        "id": "qcz-lJG3KESR"
      },
      "execution_count": 51,
      "outputs": []
    },
    {
      "cell_type": "code",
      "source": [
        "pf = PolynomialFeatures(degree = 1)\n",
        "X_pf = pf.fit_transform(X)\n",
        "loo = LeaveOneOut()\n",
        "lm = LinearRegression()\n",
        "cve = cross_val_score(estimator = lm, X = X_pf, y = y, cv = loo, scoring = 'neg_mean_squared_error').mean()\n",
        "print(\"The Average Cross Validation Error using Leave One Out Cross Validation is: {}\".format(cve))"
      ],
      "metadata": {
        "colab": {
          "base_uri": "https://localhost:8080/"
        },
        "id": "8C4FmyKhKD-C",
        "outputId": "0242e3ef-949c-4134-bc90-3065d42f309a"
      },
      "execution_count": 52,
      "outputs": [
        {
          "output_type": "stream",
          "name": "stdout",
          "text": [
            "The Average Cross Validation Error using Leave One Out Cross Validation is: -26.534996047663075\n"
          ]
        }
      ]
    },
    {
      "cell_type": "code",
      "source": [
        "pf = PolynomialFeatures(degree = 2)\n",
        "X_pf = pf.fit_transform(X)\n",
        "loo = LeaveOneOut()\n",
        "lm = LinearRegression()\n",
        "cve = cross_val_score(estimator = lm, X = X_pf, y = y, cv = loo, scoring = 'neg_mean_squared_error').mean()\n",
        "print(\"The Average Cross Validation Error using Leave One Out Cross Validation is: {}\".format(cve))"
      ],
      "metadata": {
        "colab": {
          "base_uri": "https://localhost:8080/"
        },
        "id": "qqgZVXi2KD0c",
        "outputId": "8420198e-fc8a-43bd-d083-b753e8b9034c"
      },
      "execution_count": 53,
      "outputs": [
        {
          "output_type": "stream",
          "name": "stdout",
          "text": [
            "The Average Cross Validation Error using Leave One Out Cross Validation is: -32.53855587022528\n"
          ]
        }
      ]
    },
    {
      "cell_type": "code",
      "source": [
        "pf = PolynomialFeatures(degree = 3)\n",
        "X_pf = pf.fit_transform(X)\n",
        "loo = LeaveOneOut()\n",
        "lm = LinearRegression()\n",
        "cve = cross_val_score(estimator = lm, X = X_pf, y = y, cv = loo, scoring = 'neg_mean_squared_error').mean()\n",
        "print(\"The Average Cross Validation Error using Leave One Out Cross Validation is: {}\".format(cve))"
      ],
      "metadata": {
        "colab": {
          "base_uri": "https://localhost:8080/"
        },
        "id": "UxLFfE08KDl3",
        "outputId": "c9cba96b-6cd8-4d90-cf27-0ef9efc9ff8c"
      },
      "execution_count": 54,
      "outputs": [
        {
          "output_type": "stream",
          "name": "stdout",
          "text": [
            "The Average Cross Validation Error using Leave One Out Cross Validation is: -1.1079418003348254\n"
          ]
        }
      ]
    },
    {
      "cell_type": "code",
      "source": [
        "pf = PolynomialFeatures(degree = 4)\n",
        "X_pf = pf.fit_transform(X)\n",
        "loo = LeaveOneOut()\n",
        "lm = LinearRegression()\n",
        "cve = cross_val_score(estimator = lm, X = X_pf, y = y, cv = loo, scoring = 'neg_mean_squared_error').mean()\n",
        "print(\"The Average Cross Validation Error using Leave One Out Cross Validation is: {}\".format(cve))"
      ],
      "metadata": {
        "colab": {
          "base_uri": "https://localhost:8080/"
        },
        "id": "8V1ARF_DKDdh",
        "outputId": "7bc0c22c-247b-45e0-f0f1-d9fdd9ea50fe"
      },
      "execution_count": 55,
      "outputs": [
        {
          "output_type": "stream",
          "name": "stdout",
          "text": [
            "The Average Cross Validation Error using Leave One Out Cross Validation is: -1.3234306760123546\n"
          ]
        }
      ]
    },
    {
      "cell_type": "code",
      "source": [
        "pf = PolynomialFeatures(degree = 5)\n",
        "X_pf = pf.fit_transform(X)\n",
        "loo = LeaveOneOut()\n",
        "lm = LinearRegression()\n",
        "cve = cross_val_score(estimator = lm, X = X_pf, y = y, cv = loo, scoring = 'neg_mean_squared_error').mean()\n",
        "print(\"The Average Cross Validation Error using Leave One Out Cross Validation is: {}\".format(cve))"
      ],
      "metadata": {
        "colab": {
          "base_uri": "https://localhost:8080/"
        },
        "id": "RkgJDqANKDIC",
        "outputId": "6d846d5b-c13b-48ba-bdc9-c62d3eba73a7"
      },
      "execution_count": 56,
      "outputs": [
        {
          "output_type": "stream",
          "name": "stdout",
          "text": [
            "The Average Cross Validation Error using Leave One Out Cross Validation is: -1.1099273761939192\n"
          ]
        }
      ]
    },
    {
      "cell_type": "markdown",
      "source": [
        "(d) The results are actually different since model produces different coefficients based on separate random values. Thus, the cross-validation error changes because we are getting different results in Y equation for change in values respectively."
      ],
      "metadata": {
        "id": "XZgy7dHnKcFq"
      }
    },
    {
      "cell_type": "markdown",
      "source": [
        "(e) After performing the analysis, we can see that a degree 3 equation had the smallest leave-one-out cross validation error among the others respectively. It was evident that after a certain increse in degree the model started to be overfitting leading to increase in cross-validation error. For the cubic equation, the model was able to best-fit but with the increase in degree the new features learned by the model seems to be insufficient in reducing the error further."
      ],
      "metadata": {
        "id": "R10eaOnlKeoW"
      }
    }
  ]
}